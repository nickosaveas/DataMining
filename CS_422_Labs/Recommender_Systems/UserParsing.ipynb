{
 "cells": [
  {
   "cell_type": "code",
   "execution_count": 115,
   "metadata": {},
   "outputs": [],
   "source": [
    "import os\n",
    "os.chdir(\"C:/Users/Nicko/Documents/School/Spring_2018/CS_422_Data_Mining/HW4/exercise2.1\")"
   ]
  },
  {
   "cell_type": "code",
   "execution_count": 116,
   "metadata": {},
   "outputs": [],
   "source": [
    "with open(\"movies.txt\", encoding=\"utf-8\") as movies_file:\n",
    "    temp = list(movies_file)\n",
    "    \n",
    "movies = dict()\n",
    "\n",
    "for i in temp[1:]:\n",
    "    index, movie, rest = i.split(\"\\t\")\n",
    "    movies[index] = movie"
   ]
  },
  {
   "cell_type": "code",
   "execution_count": 117,
   "metadata": {},
   "outputs": [],
   "source": [
    "with open(\"ratings.txt\", encoding=\"utf-8\") as ratings_file:\n",
    "    temp = list(ratings_file)\n",
    "    \n",
    "users = {'0' : ['Wee ha', 'beep boop']}\n",
    "\n",
    "for i in temp[1:]:\n",
    "    userID, movieID, who, cares = i.split(\"\\t\")\n",
    "    if userID in users:\n",
    "        users[userID].append(movies[movieID])\n",
    "    else:\n",
    "        users[userID] = [movies[movieID]]\n",
    "\n",
    "del(users['0'])"
   ]
  },
  {
   "cell_type": "code",
   "execution_count": 118,
   "metadata": {
    "scrolled": true
   },
   "outputs": [],
   "source": [
    "os.chdir(\"C:/Users/Nicko/Documents/School/Spring_2018/CS_422_Data_Mining/HW4/hw4.movies\")\n",
    "\n",
    "for i in users:\n",
    "    filename = 'user' + i + '.txt'\n",
    "    file = open(filename, \"w+b\")\n",
    "    for movie in users[i]:\n",
    "        string = (movie + \"\\n\").encode('utf-8')\n",
    "        file.write(string)\n",
    "    file.close()"
   ]
  },
  {
   "cell_type": "code",
   "execution_count": null,
   "metadata": {},
   "outputs": [],
   "source": []
  }
 ],
 "metadata": {
  "kernelspec": {
   "display_name": "Python 3",
   "language": "python",
   "name": "python3"
  },
  "language_info": {
   "codemirror_mode": {
    "name": "ipython",
    "version": 3
   },
   "file_extension": ".py",
   "mimetype": "text/x-python",
   "name": "python",
   "nbconvert_exporter": "python",
   "pygments_lexer": "ipython3",
   "version": "3.6.3"
  }
 },
 "nbformat": 4,
 "nbformat_minor": 2
}

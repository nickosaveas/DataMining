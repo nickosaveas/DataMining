{
 "cells": [
  {
   "cell_type": "markdown",
   "metadata": {},
   "source": [
    "# Magic the Gathering Data Analysis\n",
    "## Nicholas Saveas\n",
    "\n",
    "The source data can be found here: https://mtgjson.com/"
   ]
  },
  {
   "cell_type": "code",
   "execution_count": 35,
   "metadata": {},
   "outputs": [],
   "source": [
    "import json\n",
    "from pprint import pprint\n",
    "\n",
    "data = json.load(open('../AllSets.json'), encoding = \"utf8\")"
   ]
  },
  {
   "cell_type": "markdown",
   "metadata": {},
   "source": [
    "## Analyzing set names\n",
    "I understand that this serves no real purpose and tells me nothing about the game. It just seems like to fun to visualize and play around with this sort of data.\n",
    "\n",
    "As you can see there are a lot of sets - 220 to be exact."
   ]
  },
  {
   "cell_type": "code",
   "execution_count": 36,
   "metadata": {},
   "outputs": [
    {
     "name": "stdout",
     "output_type": "stream",
     "text": [
      "['UST', 'UNH', 'UGL', 'pWOS', 'pWOR', 'pWCQ', 'pSUS', 'pSUM', 'pREL', 'pPRO', 'pPRE', 'pPOD', 'pMPR', 'pMGD', 'pMEI', 'pLPA', 'pLGM', 'pJGP', 'pHHO', 'pWPN', 'pGTW', 'pGRU', 'pGPX', 'pFNM', 'pELP', 'pDRC', 'pCMP', 'pCEL', 'pARL', 'pALP', 'p2HG', 'p15A', 'PD3', 'PD2', 'H09', 'PTK', 'POR', 'PO2', 'PCA', 'PC2', 'HOP', 'VMA', 'MMA', 'MM3', 'MM2', 'MED', 'ME4', 'ME3', 'ME2', 'IMA', 'EMA', 'MPS_AKH', 'MPS', 'EXP', 'E02', 'V17', 'V16', 'V15', 'V14', 'V13', 'V12', 'V11', 'V10', 'V09', 'DRB', 'EVG', 'DDT', 'DDS', 'DDR', 'DDQ', 'DDP', 'DDO', 'DDN', 'DDM', 'DDL', 'DDK', 'DDJ', 'DDI', 'DDH', 'DDG', 'DDF', 'DDE', 'DDD', 'DDC', 'DD3_JVC', 'DD3_GVL', 'DD3_EVG', 'DD3_DVD', 'DD2', 'CNS', 'CN2', 'CMD', 'CMA', 'CM1', 'C17', 'C16', 'C15', 'C14', 'C13', 'CEI', 'CED', 'E01', 'ARC', 'ZEN', 'XLN', 'WWK', 'WTH', 'W17', 'W16', 'VIS', 'VAN', 'USG', 'ULG', 'UDS', 'TSP', 'TSB', 'TPR', 'TOR', 'TMP', 'THS', 'STH', 'SOM', 'SOK', 'SOI', 'SHM', 'SCG', 'S99', 'S00', 'RTR', 'RQS', 'ROE', 'RIX', 'RAV', 'PLS', 'PLC', 'PCY', 'ORI', 'ONS', 'OGW', 'ODY', 'NPH', 'NMS', 'MRD', 'MOR', 'MMQ', 'MIR', 'MGB', 'MD1', 'MBS', 'M15', 'M14', 'M13', 'M12', 'M11', 'M10', 'LRW', 'LGN', 'LEG', 'LEB', 'LEA', 'KTK', 'KLD', 'JUD', 'JOU', 'ITP', 'ISD', 'INV', 'ICE', 'HOU', 'HML', 'GTC', 'GPT', 'FUT', 'FRF_UGIN', 'FRF', 'FEM', 'EXO', 'EVE', 'EMN', 'DTK', 'DST', 'DRK', 'DPA', 'DKM', 'DKA', 'DIS', 'DGM', 'CST', 'CSP', 'CP3', 'CP2', 'CP1', 'CON', 'CHR', 'CHK', 'BTD', 'BRB', 'BOK', 'BNG', 'BFZ', 'AVR', 'ATQ', 'ATH', 'ARN', 'ARB', 'APC', 'ALL', 'ALA', 'AKH', 'AER', '9ED', '8ED', '7ED', '6ED', '5ED', '5DN', '4ED', '3ED', '2ED', '10E']\n",
      "220\n"
     ]
    }
   ],
   "source": [
    "# Initialize an emtpy list then populate it with the set names\n",
    "# The top level of the data set from the json file is organized by set names\n",
    "allSets = []\n",
    "for i in data:\n",
    "    allSets.append(i)\n",
    "\n",
    "print(allSets)\n",
    "\n",
    "print(len(allSets))"
   ]
  },
  {
   "cell_type": "markdown",
   "metadata": {},
   "source": [
    "## Cleaning the data\n",
    "The set codes contain a lot of not legal in tournament play.\n",
    "\n",
    "I want the data to focus on only the legal expansion/core sets and not the introduction, compilation, or core sets. \n",
    "\n",
    "Surprisingly, the legal sets make up less than half of the total number of magic sets with set codes."
   ]
  },
  {
   "cell_type": "code",
   "execution_count": 37,
   "metadata": {},
   "outputs": [
    {
     "name": "stdout",
     "output_type": "stream",
     "text": [
      "['MPS', 'EXP', 'CEI', 'ZEN', 'XLN', 'WWK', 'WTH', 'VIS', 'VAN', 'USG', 'ULG', 'UDS', 'TSP', 'TSB', 'TOR', 'TMP', 'THS', 'STH', 'SOM', 'SOK', 'SOI', 'SHM', 'SCG', 'RTR', 'RQS', 'ROE', 'RIX', 'RAV', 'PLS', 'PLC', 'PCY', 'ORI', 'ONS', 'OGW', 'ODY', 'NPH', 'NMS', 'MRD', 'MOR', 'MMQ', 'MIR', 'MGB', 'MBS', 'M15', 'M14', 'M13', 'M12', 'M11', 'M10', 'LRW', 'LGN', 'LEG', 'LEB', 'LEA', 'KTK', 'KLD', 'JUD', 'JOU', 'ITP', 'ISD', 'INV', 'ICE', 'HOU', 'HML', 'GTC', 'GPT', 'FUT', 'FRF', 'FEM', 'EXO', 'EVE', 'EMN', 'DTK', 'DST', 'DRK', 'DKA', 'DIS', 'DGM', 'CST', 'CSP', 'CP3', 'CP2', 'CP1', 'CON', 'CHK', 'BOK', 'BNG', 'BFZ', 'AVR', 'ATQ', 'ARN', 'ARB', 'APC', 'ALL', 'ALA', 'AKH', 'AER', '9ED', '8ED', '7ED', '6ED', '5ED', '5DN', '4ED', '3ED', '2ED', '10E']\n",
      "107\n"
     ]
    }
   ],
   "source": [
    "# Print the set names but clean the data a bit\n",
    "expansionSets = [x for x in allSets if len(x) == 3]                                # set names longer than 3 characters are special/promo sets\n",
    "expansionSets = [x for x in expansionSets if not((x[0] == 'D') and (x[1] == 'D'))] # remove the duel deck sets as they are skewing the data\n",
    "expansionSets = [x for x in expansionSets if not((x[0] == 'C') and (x[1] == '1'))] # remove the commander sets as well\n",
    "expansionSets = [x for x in expansionSets if not((x[0] == 'V') and (x[1] == '1'))] # remove the vault sets\n",
    "expansionSets = [x for x in expansionSets if not((x[0] == 'W') and (x[1] == '1'))] # remove the deck builders toolkits\n",
    "\n",
    "notLegal = ['POR', 'PO2', 'PTK', 'S99', 'S00', 'CHR', 'ATH', 'BRB' ,'BTD', 'DKM', 'DPA', 'MD1', 'EVG', 'DRB', 'V09'\n",
    "           ,'H09', 'PD2', 'PD3', 'MMA', 'MM2', 'EMA', 'MM3', 'IMA' ,'ARC', 'E01', 'HOP', 'PC2', 'PCA', 'CMD', 'CM1'\n",
    "           ,'CMA', 'CNS', 'CN2', 'E02', 'CED', 'UGL', 'UNH', 'UST' ,'MED', 'ME2', 'ME3', 'ME4', 'VMA', 'TPR']\n",
    "\n",
    "for i in notLegal:\n",
    "    expansionSets.remove(i)\n",
    "    \n",
    "print(expansionSets)\n",
    "print(len(expansionSets))"
   ]
  },
  {
   "cell_type": "code",
   "execution_count": 3,
   "metadata": {},
   "outputs": [
    {
     "data": {
      "text/plain": [
       "{'0': 9,\n",
       " '1': 28,\n",
       " '2': 12,\n",
       " '3': 8,\n",
       " '4': 5,\n",
       " '5': 5,\n",
       " '6': 4,\n",
       " '7': 4,\n",
       " '8': 1,\n",
       " '9': 5,\n",
       " 'A': 23,\n",
       " 'B': 12,\n",
       " 'C': 30,\n",
       " 'D': 70,\n",
       " 'E': 33,\n",
       " 'F': 6,\n",
       " 'G': 14,\n",
       " 'H': 15,\n",
       " 'I': 13,\n",
       " 'J': 3,\n",
       " 'K': 14,\n",
       " 'L': 16,\n",
       " 'M': 41,\n",
       " 'N': 17,\n",
       " 'O': 19,\n",
       " 'P': 26,\n",
       " 'Q': 4,\n",
       " 'R': 25,\n",
       " 'S': 28,\n",
       " 'T': 23,\n",
       " 'U': 10,\n",
       " 'V': 17,\n",
       " 'W': 7,\n",
       " 'X': 4,\n",
       " 'Y': 2,\n",
       " 'Z': 2}"
      ]
     },
     "execution_count": 3,
     "metadata": {},
     "output_type": "execute_result"
    }
   ],
   "source": [
    "# Initialize an empty dictionary\n",
    "setLetters = dict()\n",
    "\n",
    "setLetters = {'0': 0,'1': 0,'2': 0,'3': 0,'4': 0,'5': 0,'6': 0,'7': 0,'8': 0,'9': 0,'A': 0,'B': 0,'C': 0,'D': 0,'E': 0,'F': 0,'G': 0,\n",
    "'H': 0,'I': 0,'J': 0,'K': 0,'L': 0,'M': 0,'N': 0,'O': 0,'P': 0,'Q': 0,'R': 0,'S': 0,'T': 0,'U': 0,'V': 0,'W': 0,\n",
    "'X': 0,'Y': 0,'Z': 0}\n",
    "\n",
    "\n",
    "# Iterate through every set name and then every letter in that set name\n",
    "for i in range(0, len(sets)):\n",
    "    for l in sets[i]:\n",
    "        if l not in setLetters.keys():     # if the letter is not a key\n",
    "            setLetters[l] = 1              # add it to the dictionary with value 1\n",
    "        else:                              # otherwise - it is in the dictionary\n",
    "            setLetters[l] += 1             # increment the value stored at the key\n",
    "            \n",
    "setLetters                                 # I don't print() it because it's more readable this way"
   ]
  },
  {
   "cell_type": "markdown",
   "metadata": {},
   "source": [
    "It is a little silly to manually add all the keys, but it makes sense to have the keys inserted first just in case there is a letter that has 0 occurences.<br>\n",
    "The previous method I chose only accounted for existing letters and not those that didnt appear.<br>\n",
    "In the end it didn't really matter because every key had at least one entry."
   ]
  },
  {
   "cell_type": "code",
   "execution_count": 4,
   "metadata": {},
   "outputs": [],
   "source": [
    "# set up, see here: https://pythonspot.com/matplotlib-bar-chart/\n",
    "import matplotlib.pyplot as plt; plt.rcdefaults()\n",
    "import numpy as np\n",
    "import matplotlib.pyplot as plt\n",
    "\n",
    "objects = setLetters.keys()         # the keys in the dictionary become the x axis - in lexicographic order\n",
    "y_pos = np.arange(len(objects))\n",
    "frequency = setLetters.values()     # the values in the dictionary become the y axis"
   ]
  },
  {
   "cell_type": "code",
   "execution_count": 5,
   "metadata": {},
   "outputs": [
    {
     "data": {
      "image/png": "[encoded data removed]",
      "text/plain": [
       "<matplotlib.figure.Figure at 0xee81590>"
      ]
     },
     "metadata": {},
     "output_type": "display_data"
    }
   ],
   "source": [
    "plt.bar(y_pos, frequency, align = 'center', alpha = 0.75)    # alpha determines how opaque the bars are in color\n",
    "plt.xticks(y_pos, objects)\n",
    "plt.ylabel('Frequncy')\n",
    "plt.title('Frequency of Letters in MagicTCG Set Names')\n",
    " \n",
    "plt.show()"
   ]
  },
  {
   "cell_type": "markdown",
   "metadata": {},
   "source": [
    "### Conclusion on Set Names\n",
    "\n",
    "Technically I did not clean my data well enough because some of the sets are \"Masters\" and \"Commander\" sets which are not true expansion sets - they do not add new playable cards. These are only additional sets that provide either reprints (or remasters) of existing cards or new cards made only for a specific game mode called Commander.\n",
    "\n",
    "Before I added all the keys in order I was adding them as they appeared, which lead to a an cleaner way to show poorly visualized data. Funnily enough, even after sorting the keys I thought there was still an error because \"D\" was the most common letter and I just didn't think that was a possibility.\n",
    "\n",
    "Although this tells me exactly nothing about the game it certainly is interesting to see that \"D\" is such a popular set letter name throughout all of magic's history. I would have thought \"M\" would be the most popular considering the set names like \"M11\", \"M12\", \"M13\", etc. "
   ]
  },
  {
   "cell_type": "code",
   "execution_count": null,
   "metadata": {},
   "outputs": [],
   "source": []
  }
 ],
 "metadata": {
  "kernelspec": {
   "display_name": "Python 3",
   "language": "python",
   "name": "python3"
  },
  "language_info": {
   "codemirror_mode": {
    "name": "ipython",
    "version": 3
   },
   "file_extension": ".py",
   "mimetype": "text/x-python",
   "name": "python",
   "nbconvert_exporter": "python",
   "pygments_lexer": "ipython3",
   "version": "3.6.3"
  }
 },
 "nbformat": 4,
 "nbformat_minor": 2
}

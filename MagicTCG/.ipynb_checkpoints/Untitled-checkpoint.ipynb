{
 "cells": [
  {
   "cell_type": "markdown",
   "metadata": {},
   "source": [
    "# Magic the Gathering Data Analysis\n",
    "## Nicholas Saveas\n",
    "\n",
    "The source data can be found here: https://mtgjson.com/"
   ]
  },
  {
   "cell_type": "code",
   "execution_count": 2,
   "metadata": {},
   "outputs": [],
   "source": [
    "import json\n",
    "from pprint import pprint\n",
    "\n",
    "data = json.load(open('AllSets.json'), encoding = \"utf8\")"
   ]
  },
  {
   "cell_type": "markdown",
   "metadata": {},
   "source": [
    "## Analyzing set names\n",
    "I understand that this serves no real purpose and tell me nothing about the game. It just seems like to fun to visualize and play around with this sort of data."
   ]
  },
  {
   "cell_type": "code",
   "execution_count": 12,
   "metadata": {},
   "outputs": [
    {
     "name": "stdout",
     "output_type": "stream",
     "text": [
      "['UST', 'UNH', 'UGL', 'PD3', 'PD2', 'H09', 'PTK', 'POR', 'PO2', 'PCA', 'PC2', 'HOP', 'VMA', 'MMA', 'MM3', 'MM2', 'MED', 'ME4', 'ME3', 'ME2', 'IMA', 'EMA', 'MPS', 'EXP', 'E02', 'V17', 'V16', 'V15', 'V14', 'V13', 'V12', 'V11', 'V10', 'V09', 'DRB', 'EVG', 'DDT', 'DDS', 'DDR', 'DDQ', 'DDP', 'DDO', 'DDN', 'DDM', 'DDL', 'DDK', 'DDJ', 'DDI', 'DDH', 'DDG', 'DDF', 'DDE', 'DDD', 'DDC', 'DD2', 'CNS', 'CN2', 'CMD', 'CMA', 'CM1', 'C17', 'C16', 'C15', 'C14', 'C13', 'CEI', 'CED', 'E01', 'ARC', 'ZEN', 'XLN', 'WWK', 'WTH', 'W17', 'W16', 'VIS', 'VAN', 'USG', 'ULG', 'UDS', 'TSP', 'TSB', 'TPR', 'TOR', 'TMP', 'THS', 'STH', 'SOM', 'SOK', 'SOI', 'SHM', 'SCG', 'S99', 'S00', 'RTR', 'RQS', 'ROE', 'RIX', 'RAV', 'PLS', 'PLC', 'PCY', 'ORI', 'ONS', 'OGW', 'ODY', 'NPH', 'NMS', 'MRD', 'MOR', 'MMQ', 'MIR', 'MGB', 'MD1', 'MBS', 'M15', 'M14', 'M13', 'M12', 'M11', 'M10', 'LRW', 'LGN', 'LEG', 'LEB', 'LEA', 'KTK', 'KLD', 'JUD', 'JOU', 'ITP', 'ISD', 'INV', 'ICE', 'HOU', 'HML', 'GTC', 'GPT', 'FUT', 'FRF', 'FEM', 'EXO', 'EVE', 'EMN', 'DTK', 'DST', 'DRK', 'DPA', 'DKM', 'DKA', 'DIS', 'DGM', 'CST', 'CSP', 'CP3', 'CP2', 'CP1', 'CON', 'CHR', 'CHK', 'BTD', 'BRB', 'BOK', 'BNG', 'BFZ', 'AVR', 'ATQ', 'ATH', 'ARN', 'ARB', 'APC', 'ALL', 'ALA', 'AKH', 'AER', '9ED', '8ED', '7ED', '6ED', '5ED', '5DN', '4ED', '3ED', '2ED', '10E']\n"
     ]
    },
    {
     "data": {
      "text/plain": [
       "str"
      ]
     },
     "execution_count": 12,
     "metadata": {},
     "output_type": "execute_result"
    }
   ],
   "source": [
    "# Initialize an emtpy list then populate it with the set names\n",
    "# The top level of the data set is organized by set names\n",
    "sets = []\n",
    "for i in data:\n",
    "    sets.append(i)\n",
    "    \n",
    "# Print the set names but clean the data a bit\n",
    "sets = [x for x in sets if len(x) == 3]      # set names longer than 3 characters are special/promo sets\n",
    "print(sets)\n",
    "\n",
    "# sets is a list of strings\n",
    "type(sets[0])"
   ]
  },
  {
   "cell_type": "code",
   "execution_count": 16,
   "metadata": {},
   "outputs": [
    {
     "data": {
      "text/plain": [
       "{'0': 9,\n",
       " '1': 28,\n",
       " '2': 12,\n",
       " '3': 8,\n",
       " '4': 5,\n",
       " '5': 5,\n",
       " '6': 4,\n",
       " '7': 4,\n",
       " '8': 1,\n",
       " '9': 5,\n",
       " 'A': 23,\n",
       " 'B': 12,\n",
       " 'C': 30,\n",
       " 'D': 70,\n",
       " 'E': 33,\n",
       " 'F': 6,\n",
       " 'G': 14,\n",
       " 'H': 15,\n",
       " 'I': 13,\n",
       " 'J': 3,\n",
       " 'K': 14,\n",
       " 'L': 16,\n",
       " 'M': 41,\n",
       " 'N': 17,\n",
       " 'O': 19,\n",
       " 'P': 26,\n",
       " 'Q': 4,\n",
       " 'R': 25,\n",
       " 'S': 28,\n",
       " 'T': 23,\n",
       " 'U': 10,\n",
       " 'V': 17,\n",
       " 'W': 7,\n",
       " 'X': 4,\n",
       " 'Y': 2,\n",
       " 'Z': 2}"
      ]
     },
     "execution_count": 16,
     "metadata": {},
     "output_type": "execute_result"
    }
   ],
   "source": [
    "# Initialize an empty dictionary\n",
    "setLetters = dict()\n",
    "\n",
    "# Iterate through every set name and then every letter in that set name\n",
    "for i in range(0, len(sets)):\n",
    "    for l in sets[i]:\n",
    "        if l not in setLetters.keys():     # if the letter is not a key\n",
    "            setLetters[l] = 1              # add it to the dictionary with value 1\n",
    "            \n",
    "        else:                              # otherwise - it is in the dictionary\n",
    "            setLetters[l] += 1             # increment the value stored at the key\n",
    "            \n",
    "setLetters                                 # I don't print() it because it's more readable this way"
   ]
  },
  {
   "cell_type": "code",
   "execution_count": 28,
   "metadata": {},
   "outputs": [],
   "source": [
    "# set up, see here: https://pythonspot.com/matplotlib-bar-chart/\n",
    "import matplotlib.pyplot as plt; plt.rcdefaults()\n",
    "import numpy as np\n",
    "import matplotlib.pyplot as plt\n",
    "\n",
    "objects = setLetters.keys()                  # the keys in the dictionary become the x axis - in lexicographic order\n",
    "y_pos = np.arange(len(objects))\n",
    "frequency = setLetters.values()       # the values in the dictionary become the y axis"
   ]
  },
  {
   "cell_type": "code",
   "execution_count": 29,
   "metadata": {},
   "outputs": [
    {
     "data": {
      "image/png": "[encoded data removed]",
      "text/plain": [
       "<matplotlib.figure.Figure at 0xfaddb70>"
      ]
     },
     "metadata": {},
     "output_type": "display_data"
    }
   ],
   "source": [
    "plt.bar(y_pos, frequency, align = 'center', alpha = 0.75)\n",
    "plt.xticks(y_pos, objects)\n",
    "plt.ylabel('Frequncy')\n",
    "plt.title('Frequency of Letters in MagicTCG Set Names')\n",
    " \n",
    "plt.show()"
   ]
  },
  {
   "cell_type": "markdown",
   "metadata": {},
   "source": [
    "Sort this"
   ]
  },
  {
   "cell_type": "code",
   "execution_count": null,
   "metadata": {},
   "outputs": [],
   "source": []
  }
 ],
 "metadata": {
  "kernelspec": {
   "display_name": "Python 3",
   "language": "python",
   "name": "python3"
  },
  "language_info": {
   "codemirror_mode": {
    "name": "ipython",
    "version": 3
   },
   "file_extension": ".py",
   "mimetype": "text/x-python",
   "name": "python",
   "nbconvert_exporter": "python",
   "pygments_lexer": "ipython3",
   "version": "3.6.3"
  }
 },
 "nbformat": 4,
 "nbformat_minor": 2
}
